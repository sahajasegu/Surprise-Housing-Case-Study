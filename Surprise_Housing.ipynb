{
  "cells": [
    {
      "cell_type": "code",
      "source": [
        "import warnings\n",
        "warnings.filterwarnings(\"ignore\")"
      ],
      "metadata": {
        "id": "5gbed75N7SKI"
      },
      "execution_count": null,
      "outputs": []
    },
    {
      "cell_type": "code",
      "source": [
        "import numpy as np\n",
        "import pandas as pd\n",
        "!pip install matplotlib\n",
        "import matplotlib.pyplot as plt\n",
        "!pip install seaborn\n",
        "import seaborn as sns\n",
        "pd.set_option(\"display.max_columns\",None)\n",
        "pd.set_option(\"display.max_rows\",None)"
      ],
      "metadata": {
        "id": "IvLlky6g7cCl"
      },
      "execution_count": null,
      "outputs": []
    },
    {
      "cell_type": "markdown",
      "source": [
        "# **Step 1:Import Dataset and Insept Dataset**"
      ],
      "metadata": {
        "id": "mmU0133x7_Kh"
      }
    },
    {
      "cell_type": "code",
      "source": [
        "housing=pd.read_csv(\"train.csv\")\n",
        "housing.head()"
      ],
      "metadata": {
        "id": "N6ZpgJLQ7zAC",
        "collapsed": true
      },
      "execution_count": null,
      "outputs": []
    },
    {
      "cell_type": "code",
      "source": [
        "housing.shape"
      ],
      "metadata": {
        "id": "xk3C4IFm9IB1",
        "collapsed": true
      },
      "execution_count": null,
      "outputs": []
    },
    {
      "cell_type": "code",
      "source": [
        "housing.describe()"
      ],
      "metadata": {
        "id": "tqbLccSR9fcL",
        "collapsed": true
      },
      "execution_count": null,
      "outputs": []
    },
    {
      "cell_type": "code",
      "source": [
        "housing.info()"
      ],
      "metadata": {
        "id": "0Fg8fLES9j6-",
        "collapsed": true
      },
      "execution_count": null,
      "outputs": []
    },
    {
      "cell_type": "code",
      "source": [
        "housing.isnull().sum()/housing.shape[0]*100"
      ],
      "metadata": {
        "id": "E2Ec6tzI9pKl",
        "collapsed": true
      },
      "execution_count": null,
      "outputs": []
    },
    {
      "cell_type": "markdown",
      "source": [
        "# **Step 2: Data Cleaning**"
      ],
      "metadata": {
        "id": "HFau6M9d-g_j"
      }
    },
    {
      "cell_type": "code",
      "source": [
        "cols=['Alley','BsmtQual','BsmtCond','BsmtExposure','BsmtFinType1','BsmtFinType2','FireplaceQu','GarageType','GarageFinish','GarageQual','GarageCond','PoolQC','Fence','MiscFeature']\n",
        "for i in cols:\n",
        "    housing[i].fillna(\"None\",inplace=True)"
      ],
      "metadata": {
        "id": "3Vxrub8J-sho"
      },
      "execution_count": null,
      "outputs": []
    },
    {
      "cell_type": "code",
      "source": [
        "housing.info()"
      ],
      "metadata": {
        "id": "eopA0ruG_X5h",
        "collapsed": true
      },
      "execution_count": null,
      "outputs": []
    },
    {
      "cell_type": "code",
      "source": [
        "%matplotlib inline"
      ],
      "metadata": {
        "id": "cFI_e86RAOEb"
      },
      "execution_count": null,
      "outputs": []
    },
    {
      "cell_type": "code",
      "source": [
        "plt.figure(figsize=(6,6))\n",
        "sns.distplot(housing['SalePrice'])\n",
        "plt.show()"
      ],
      "metadata": {
        "id": "ysimzXG_A4ks",
        "collapsed": true
      },
      "execution_count": null,
      "outputs": []
    },
    {
      "cell_type": "code",
      "source": [
        "print(\"Skewness: %f\" % housing['SalePrice'].skew())\n",
        "print(\"Kurtosis: %f\" % housing['SalePrice'].kurt())"
      ],
      "metadata": {
        "id": "FsrwOgpgBH2R",
        "collapsed": true
      },
      "execution_count": null,
      "outputs": []
    },
    {
      "cell_type": "markdown",
      "source": [
        "we can observe target variable is > 1 and has high density around sale price of 160k"
      ],
      "metadata": {
        "id": "3xQFFIshCMal"
      }
    },
    {
      "cell_type": "code",
      "source": [
        "housing['SalePrice']=np.log(housing['SalePrice'])"
      ],
      "metadata": {
        "id": "QHsDnaS1CByN"
      },
      "execution_count": null,
      "outputs": []
    },
    {
      "cell_type": "code",
      "source": [
        "plt.figure(figsize=(6,6))\n",
        "sns.distplot(housing['SalePrice'])\n",
        "plt.show()"
      ],
      "metadata": {
        "id": "xI1ADTqUCbaU",
        "collapsed": true
      },
      "execution_count": null,
      "outputs": []
    },
    {
      "cell_type": "code",
      "source": [
        "print(\"Skewness: %f\" % housing['SalePrice'].skew())\n",
        "print(\"Kurtosis: %f\" % housing['SalePrice'].kurt())"
      ],
      "metadata": {
        "id": "Y1tkL3CgCfom",
        "collapsed": true
      },
      "execution_count": null,
      "outputs": []
    },
    {
      "cell_type": "markdown",
      "source": [
        "we can now see normal distribution and skewness and kurtosis are reduced"
      ],
      "metadata": {
        "id": "n210OANnC318"
      }
    },
    {
      "cell_type": "markdown",
      "source": [
        "- convert 'MSSubClass','OverallQual','OverallCond' to object datatype\n",
        "- convert 'LotFrontage','MasVnrArea' to Numeric datatype"
      ],
      "metadata": {
        "id": "yABwJUckbZ42"
      }
    },
    {
      "cell_type": "code",
      "source": [
        "housing.drop(\"Id\", axis=1, inplace=True)"
      ],
      "metadata": {
        "id": "DsGOyOnKC4rE"
      },
      "execution_count": null,
      "outputs": []
    },
    {
      "cell_type": "code",
      "source": [
        "housing[['MSSubClass','OverallQual','OverallCond' ]] = housing[['MSSubClass','OverallQual','OverallCond' ]].astype('object')"
      ],
      "metadata": {
        "id": "hjgHHTQ-bqtJ"
      },
      "execution_count": null,
      "outputs": []
    },
    {
      "cell_type": "code",
      "source": [
        "housing['LotFrontage']=pd.to_numeric(housing['LotFrontage'],errors='coerce')\n",
        "housing['MasVnrArea']=pd.to_numeric(housing['MasVnrArea'],errors='coerce')"
      ],
      "metadata": {
        "id": "jAy1jYwqcAin"
      },
      "execution_count": null,
      "outputs": []
    },
    {
      "cell_type": "code",
      "source": [
        "housing.info()"
      ],
      "metadata": {
        "id": "6eFloV9cckVw",
        "collapsed": true
      },
      "execution_count": null,
      "outputs": []
    },
    {
      "cell_type": "code",
      "source": [
        "null_cols=housing.columns[housing.isnull().any()]\n",
        "null_cols"
      ],
      "metadata": {
        "id": "t4OTzL_Wcobh",
        "collapsed": true
      },
      "execution_count": null,
      "outputs": []
    },
    {
      "cell_type": "code",
      "source": [
        "for i in null_cols:\n",
        "    if housing[i].dtype==  np.float64 or housing[i].dtype ==np.int64:\n",
        "        housing[i].fillna(housing[i].mean(),inplace=True)\n",
        "    else:\n",
        "        housing[i].fillna(housing[i].mode()[0],inplace=True)"
      ],
      "metadata": {
        "id": "Dw7jLB9Ic2aq"
      },
      "execution_count": null,
      "outputs": []
    },
    {
      "cell_type": "code",
      "source": [
        "housing.isna().sum()"
      ],
      "metadata": {
        "id": "RhChWeYodTZc",
        "collapsed": true
      },
      "execution_count": null,
      "outputs": []
    },
    {
      "cell_type": "markdown",
      "source": [
        "# **Step 3: Exploratory Data Analysis on the Dataset**"
      ],
      "metadata": {
        "id": "5owTD9Z2ftT5"
      }
    },
    {
      "cell_type": "code",
      "source": [
        "cat_cols=housing.select_dtypes(include='object').columns\n",
        "cat_cols"
      ],
      "metadata": {
        "id": "yfMhjFAffw-D",
        "collapsed": true
      },
      "execution_count": null,
      "outputs": []
    },
    {
      "cell_type": "code",
      "source": [
        "num_cols=housing.select_dtypes(include=['int64','float64']).columns\n",
        "num_cols"
      ],
      "metadata": {
        "id": "DZnV3UUWIDMu",
        "collapsed": true
      },
      "execution_count": null,
      "outputs": []
    },
    {
      "cell_type": "markdown",
      "source": [
        "**Univarient Analysis**"
      ],
      "metadata": {
        "id": "2XlQnZbugQ4s"
      }
    },
    {
      "cell_type": "code",
      "source": [
        "for i in num_cols:\n",
        "    plt.figure(figsize=[8,5])\n",
        "    print(i)\n",
        "    sns.boxplot(housing[i])\n",
        "    plt.show()"
      ],
      "metadata": {
        "id": "akGgS2FhgXPn",
        "collapsed": true
      },
      "execution_count": null,
      "outputs": []
    },
    {
      "cell_type": "markdown",
      "source": [
        "We can see outliers in LotFrontage,LotArea,YearBuilt,MaxVnrArea,BsmtFinSF1,BsmtFinSF2,BsmtUnfSF,etc..."
      ],
      "metadata": {
        "id": "vANJ0q8bh_wk"
      }
    },
    {
      "cell_type": "code",
      "source": [
        "for i in cat_cols:\n",
        "  print(housing[i].value_counts(normalize=True))\n",
        "  plt.figure(figsize=[5,5])\n",
        "  housing[i].value_counts(normalize=True).plot.pie(labeldistance=None,autopct ='%1.2f%%')\n",
        "  plt.legend()\n",
        "  plt.show()\n",
        "  print(\"------------------------------------------------------\")\n"
      ],
      "metadata": {
        "id": "OVTAiaQKiBNg",
        "collapsed": true
      },
      "execution_count": null,
      "outputs": []
    },
    {
      "cell_type": "markdown",
      "source": [
        "**Bivariable/Multivariable Analysis on Dataset**"
      ],
      "metadata": {
        "id": "fkobj7NEjl92"
      }
    },
    {
      "cell_type": "code",
      "source": [
        "sns.barplot(x='MSZoning',y='LotFrontage',data=housing)\n",
        "plt.show()"
      ],
      "metadata": {
        "id": "1cbIGiP0j1I7",
        "collapsed": true
      },
      "execution_count": null,
      "outputs": []
    },
    {
      "cell_type": "code",
      "source": [
        "sns.barplot(x='MSSubClass',y='LotFrontage',data=housing)\n",
        "plt.show()"
      ],
      "metadata": {
        "id": "u16aYaklj_6e",
        "collapsed": true
      },
      "execution_count": null,
      "outputs": []
    },
    {
      "cell_type": "code",
      "source": [
        "sns.barplot(x='HouseStyle',y='SalePrice',hue='Street',data=housing)\n",
        "plt.show()"
      ],
      "metadata": {
        "id": "G1uthsCCkP2_",
        "collapsed": true
      },
      "execution_count": null,
      "outputs": []
    },
    {
      "cell_type": "code",
      "source": [
        "sns.barplot(x='BldgType',y='SalePrice',data=housing)"
      ],
      "metadata": {
        "id": "720Wx1QRkpyf",
        "collapsed": true
      },
      "execution_count": null,
      "outputs": []
    },
    {
      "cell_type": "code",
      "source": [
        "sns.barplot(x='BsmtQual',y='SalePrice',data=housing)\n",
        "plt.show()"
      ],
      "metadata": {
        "id": "hMx_ZUWDGzOp",
        "collapsed": true
      },
      "execution_count": null,
      "outputs": []
    },
    {
      "cell_type": "code",
      "source": [
        "housing[\"Age\"]=housing[\"YrSold\"]-housing[\"YearBuilt\"]\n",
        "housing[\"Age\"].head()"
      ],
      "metadata": {
        "id": "ZsGMdTrMJFdB",
        "collapsed": true
      },
      "execution_count": null,
      "outputs": []
    },
    {
      "cell_type": "code",
      "source": [
        "housing.drop(columns=[\"YearBuilt\",\"YrSold\",],inplace=True)"
      ],
      "metadata": {
        "id": "ZgHAKuLRJTmX"
      },
      "execution_count": null,
      "outputs": []
    },
    {
      "cell_type": "code",
      "source": [
        "housing.head()"
      ],
      "metadata": {
        "id": "ejjTUDoXJjEC",
        "collapsed": true
      },
      "execution_count": null,
      "outputs": []
    },
    {
      "cell_type": "markdown",
      "source": [
        "**Correlation between Numerical Columns**"
      ],
      "metadata": {
        "id": "69EjdKXLJvCp"
      }
    },
    {
      "cell_type": "code",
      "source": [
        "plt.figure(figsize=[25,25])\n",
        "sns.heatmap(housing.corr(numeric_only=True),annot=True,cmap='BuPu')\n",
        "plt.title(\"Correlation of Numerical Columns\")"
      ],
      "metadata": {
        "id": "rk5AP2DXJlPK",
        "collapsed": true
      },
      "execution_count": null,
      "outputs": []
    },
    {
      "cell_type": "markdown",
      "source": [
        "**Get top 10 correlated columns**"
      ],
      "metadata": {
        "id": "ALzivQLfLMCN"
      }
    },
    {
      "cell_type": "code",
      "source": [
        "k=10\n",
        "plt.figure(figsize=[15,15])\n",
        "cols=housing.corr(numeric_only=True).nlargest(k,'SalePrice').index\n",
        "cm=np.corrcoef(housing[cols].values.T)\n",
        "sns.heatmap(cm,annot=True,square=True,fmt='.2f',cbar=True,annot_kws={'size':10},\n",
        "            yticklabels=cols.values,xticklabels=cols.values)\n",
        "plt.show()"
      ],
      "metadata": {
        "id": "pyWkZhHYLRRH",
        "collapsed": true
      },
      "execution_count": null,
      "outputs": []
    },
    {
      "cell_type": "markdown",
      "source": [
        "**PairPlot for numeric Columns**"
      ],
      "metadata": {
        "id": "aIRbicKNMgON"
      }
    },
    {
      "cell_type": "code",
      "source": [
        "cols=[\"SalePrice\",\"OverallQual\",\"GrLivArea\",\"GarageCars\",\"GarageArea\",\"TotalBsmtSF\",\"1stFlrSF\"]\n",
        "plt.figure(figsize=[20,20])\n",
        "sns.pairplot(housing[cols])\n",
        "plt.show()"
      ],
      "metadata": {
        "id": "lvz1HvdbMobo",
        "collapsed": true
      },
      "execution_count": null,
      "outputs": []
    },
    {
      "cell_type": "markdown",
      "source": [
        "# **Step 4: Data Preparation**"
      ],
      "metadata": {
        "id": "z8S_SUEeNVHr"
      }
    },
    {
      "cell_type": "markdown",
      "source": [
        "**Dummy Encoding**"
      ],
      "metadata": {
        "id": "x6JPfu8ONf1f"
      }
    },
    {
      "cell_type": "code",
      "source": [
        "housing_num=housing.select_dtypes(include=['int64','float64'])\n",
        "housing_cat=housing.select_dtypes(include='object')"
      ],
      "metadata": {
        "id": "Z6FlTGT6NjJQ"
      },
      "execution_count": null,
      "outputs": []
    },
    {
      "cell_type": "code",
      "source": [
        "housing_cat"
      ],
      "metadata": {
        "id": "GBz9f-VYNv2v",
        "collapsed": true
      },
      "execution_count": null,
      "outputs": []
    },
    {
      "cell_type": "code",
      "source": [
        "housing_cat_dm=pd.get_dummies(housing_cat,drop_first=True,dtype=int)"
      ],
      "metadata": {
        "id": "Crtsx1CNNzqJ"
      },
      "execution_count": null,
      "outputs": []
    },
    {
      "cell_type": "code",
      "source": [
        "housing_cat_dm"
      ],
      "metadata": {
        "id": "w6qxPHK2N518",
        "collapsed": true
      },
      "execution_count": null,
      "outputs": []
    },
    {
      "cell_type": "code",
      "source": [
        "house=pd.concat([housing_num,housing_cat_dm],axis=1)\n",
        "house.head()"
      ],
      "metadata": {
        "id": "JOvqKvY6OKzW",
        "collapsed": true
      },
      "execution_count": null,
      "outputs": []
    },
    {
      "cell_type": "code",
      "source": [
        "house.shape"
      ],
      "metadata": {
        "id": "FNk7olUbO7Kb",
        "collapsed": true
      },
      "execution_count": null,
      "outputs": []
    },
    {
      "cell_type": "code",
      "source": [
        "X=house.drop(['SalePrice'],axis=1).copy()\n",
        "y=house['SalePrice'].copy()"
      ],
      "metadata": {
        "id": "6qxBvkCEP5bq"
      },
      "execution_count": null,
      "outputs": []
    },
    {
      "cell_type": "code",
      "source": [
        "X.head()"
      ],
      "metadata": {
        "id": "yCnaBX6qPVn_",
        "collapsed": true
      },
      "execution_count": null,
      "outputs": []
    },
    {
      "cell_type": "code",
      "source": [
        "y.head()"
      ],
      "metadata": {
        "id": "FWoat4cyPXhs",
        "collapsed": true
      },
      "execution_count": null,
      "outputs": []
    },
    {
      "cell_type": "code",
      "source": [
        "from sklearn.model_selection import train_test_split\n",
        "from sklearn.preprocessing import StandardScaler\n",
        "X_train,X_test,y_train,y_test=train_test_split(X,y,test_size=0.3,random_state=42)"
      ],
      "metadata": {
        "id": "CPK5Pd1hPxT0"
      },
      "execution_count": null,
      "outputs": []
    },
    {
      "cell_type": "code",
      "source": [
        "X_train.shape"
      ],
      "metadata": {
        "id": "OYzpTV1ZP95T",
        "collapsed": true
      },
      "execution_count": null,
      "outputs": []
    },
    {
      "cell_type": "code",
      "source": [
        "y_train.shape"
      ],
      "metadata": {
        "id": "jw8yGu1WQC7U",
        "collapsed": true
      },
      "execution_count": null,
      "outputs": []
    },
    {
      "cell_type": "markdown",
      "source": [
        "**Scaling the dataset with standard Scalar**"
      ],
      "metadata": {
        "id": "xrb-FmfhQVv1"
      }
    },
    {
      "cell_type": "code",
      "source": [
        "num_cols=list(X_train.select_dtypes(include=['int64','float64']).columns)\n",
        "scalar=StandardScaler()\n",
        "X_train[num_cols]=scalar.fit_transform(X_train[num_cols])\n",
        "X_test[num_cols]=scalar.transform(X_test[num_cols])"
      ],
      "metadata": {
        "id": "p2-NqlP8Q4sF"
      },
      "execution_count": null,
      "outputs": []
    },
    {
      "cell_type": "markdown",
      "source": [
        "**Building a function to calculate evaluation metrics**"
      ],
      "metadata": {
        "id": "kDVZc3M_RFT5"
      }
    },
    {
      "cell_type": "code",
      "source": [
        "def eval_metrics(y_train,y_train_pred,y_test,y_test_pred):\n",
        "  print(\"r2 score (train)=\",'%2f' %r2_score(y_train,y_train_pred))\n",
        "  print(\"r2 score (test)=\",'%2f' %r2_score(y_test,y_pred))\n",
        "\n",
        "  mse_train=mean_squared_error(y_train,y_train_pred)\n",
        "  mse_test=mean_squared_error(y_test,y_pred)\n",
        "  rmse_train=mse_train**0.5\n",
        "  rmse_test=mse_test**0.5\n",
        "\n",
        "  print(\"RMSE (train)=\",'%.2f' % rmse_train)\n",
        "  print(\"RMSE (test)=\",'%.2f' % rmse_test)"
      ],
      "metadata": {
        "id": "OhSOp4jyRULq"
      },
      "execution_count": null,
      "outputs": []
    },
    {
      "cell_type": "markdown",
      "source": [
        "# **step 5: Build ML Model**"
      ],
      "metadata": {
        "id": "ps4sCdXzT3v3"
      }
    },
    {
      "cell_type": "code",
      "source": [
        "import sklearn\n",
        "from sklearn.linear_model import LinearRegression\n",
        "from sklearn.linear_model import Ridge,Lasso\n",
        "from sklearn.metrics import r2_score,mean_squared_error\n",
        "from sklearn.model_selection import GridSearchCV\n",
        "from sklearn.feature_selection import RFE"
      ],
      "metadata": {
        "id": "wSno9j5RUDZl"
      },
      "execution_count": null,
      "outputs": []
    },
    {
      "cell_type": "code",
      "source": [
        "params={'alpha':\n",
        "        [0.0001,0.001,0.01,0.05,0.1,0.2,0.3,0.4,0.5,0.6,0.7,0.8,0.9,1.0,2.0,3.0,4.0,\n",
        "         5.0,6.0,7.0,8.0,9.0,10,20,50,100,500,1000]}\n",
        "ridge=Ridge()\n",
        "ridgeCV=GridSearchCV(estimator=ridge,param_grid=params,scoring='neg_mean_absolute_error',cv=5,\n",
        "                     return_train_score=True,verbose=1,n_jobs=-1)\n",
        "ridgeCV.fit(X_train,y_train)"
      ],
      "metadata": {
        "id": "yRq8bGjeV39L",
        "collapsed": true
      },
      "execution_count": null,
      "outputs": []
    },
    {
      "cell_type": "code",
      "source": [
        "ridgeCV.best_params_"
      ],
      "metadata": {
        "id": "-oX86eI6WyGS",
        "collapsed": true
      },
      "execution_count": null,
      "outputs": []
    },
    {
      "cell_type": "code",
      "source": [
        "ridgeCV.cv_results_"
      ],
      "metadata": {
        "id": "CqT8Rb-6W3fe",
        "collapsed": true
      },
      "execution_count": null,
      "outputs": []
    },
    {
      "cell_type": "code",
      "source": [
        "ridge=Ridge(alpha=9)\n",
        "ridge.fit(X_train,y_train)"
      ],
      "metadata": {
        "id": "ZkYq6zNcXScy",
        "collapsed": true
      },
      "execution_count": null,
      "outputs": []
    },
    {
      "cell_type": "code",
      "source": [
        "ridge.coef_"
      ],
      "metadata": {
        "id": "wlYJx5ZxXe5J",
        "collapsed": true
      },
      "execution_count": null,
      "outputs": []
    },
    {
      "cell_type": "code",
      "source": [
        "y_train_pred=ridge.predict(X_train)\n",
        "y_pred=ridge.predict(X_test)"
      ],
      "metadata": {
        "id": "Ynt6m8jOXmbs"
      },
      "execution_count": null,
      "outputs": []
    },
    {
      "cell_type": "code",
      "source": [
        "eval_metrics(y_train,y_train_pred,y_test,y_pred)"
      ],
      "metadata": {
        "id": "g682T-1RXziP",
        "collapsed": true
      },
      "execution_count": null,
      "outputs": []
    },
    {
      "cell_type": "code",
      "source": [
        "ridgeCV_res=pd.DataFrame(ridgeCV.cv_results_)\n",
        "ridgeCV_res.head"
      ],
      "metadata": {
        "id": "jJVy2ZYMX3_p",
        "collapsed": true
      },
      "execution_count": null,
      "outputs": []
    },
    {
      "cell_type": "code",
      "source": [
        "plt.plot(ridgeCV_res['param_alpha'],ridgeCV_res['mean_test_score'],label='test')\n",
        "plt.plot(ridgeCV_res['param_alpha'],ridgeCV_res['mean_train_score'],label='train')\n",
        "plt.xlabel('alpha')\n",
        "plt.ylabel('R2_score')\n",
        "plt.xscale('log')\n",
        "plt.legend()\n",
        "plt.show()"
      ],
      "metadata": {
        "id": "sR_MNQ6jYFvi",
        "collapsed": true
      },
      "execution_count": null,
      "outputs": []
    },
    {
      "cell_type": "code",
      "source": [
        "lasso=Lasso()\n",
        "lassoCV=GridSearchCV(estimator=lasso,param_grid=params,scoring='neg_mean_absolute_error',cv=5,\n",
        "                     return_train_score=True,verbose=1,n_jobs=-1)\n",
        "lassoCV.fit(X_train,y_train)"
      ],
      "metadata": {
        "id": "PT-l5FDMZDwe",
        "collapsed": true
      },
      "execution_count": null,
      "outputs": []
    },
    {
      "cell_type": "code",
      "source": [
        "lassoCV.best_params_"
      ],
      "metadata": {
        "id": "ceUpNMwLZs2r",
        "collapsed": true
      },
      "execution_count": null,
      "outputs": []
    },
    {
      "cell_type": "code",
      "source": [
        "lasso=Lasso(alpha=0.0001)\n",
        "lasso.fit(X_train,y_train)"
      ],
      "metadata": {
        "id": "egPhWE4bZxoS",
        "collapsed": true
      },
      "execution_count": null,
      "outputs": []
    },
    {
      "cell_type": "code",
      "source": [
        "lasso.coef_"
      ],
      "metadata": {
        "id": "nHYaJ9bmaBHA",
        "collapsed": true
      },
      "execution_count": null,
      "outputs": []
    },
    {
      "cell_type": "code",
      "source": [
        "y_train_pred1=lasso.predict(X_train)\n",
        "y_pred1=lasso.predict(X_test)"
      ],
      "metadata": {
        "id": "iJ_DD6r1aDoP"
      },
      "execution_count": null,
      "outputs": []
    },
    {
      "cell_type": "code",
      "source": [
        "eval_metrics(y_train,y_train_pred1,y_test,y_pred1)"
      ],
      "metadata": {
        "id": "YhUqzwJtaKKj",
        "collapsed": true
      },
      "execution_count": null,
      "outputs": []
    },
    {
      "cell_type": "code",
      "source": [
        "lassoCV_res=pd.DataFrame(lassoCV.cv_results_)\n",
        "lassoCV_res.head()"
      ],
      "metadata": {
        "id": "dyjtehNaaQtR",
        "collapsed": true
      },
      "execution_count": null,
      "outputs": []
    },
    {
      "cell_type": "code",
      "source": [
        "plt.plot(lassoCV_res['param_alpha'],lassoCV_res['mean_test_score'],label='test')\n",
        "plt.plot(lassoCV_res['param_alpha'],lassoCV_res['mean_train_score'],label='train')\n",
        "plt.xlabel('alpha')\n",
        "plt.ylabel('R2_score')\n",
        "plt.xscale('log')\n",
        "plt.legend()\n",
        "plt.show()"
      ],
      "metadata": {
        "id": "k8y5tLf-aZ0_",
        "collapsed": true
      },
      "execution_count": null,
      "outputs": []
    },
    {
      "cell_type": "markdown",
      "source": [
        "**feature Extraction /Elimination**\n"
      ],
      "metadata": {
        "id": "6C41wtrsas1a"
      }
    },
    {
      "cell_type": "code",
      "source": [
        "betas=pd.DataFrame(index=X.columns)\n",
        "betas.rows=X.columns\n",
        "betas.loc[:,'Ridge']=ridge.coef_\n",
        "betas.loc[:,'Lasso']=lasso.coef_\n",
        "betas"
      ],
      "metadata": {
        "id": "9UaYbtEJa1nw",
        "collapsed": true
      },
      "execution_count": null,
      "outputs": []
    },
    {
      "cell_type": "code",
      "source": [
        "lasso_cols_removed=list(betas[betas['Lasso']==0].index)\n",
        "print(lasso_cols_removed)"
      ],
      "metadata": {
        "id": "FFUPopNYbaqI",
        "collapsed": true
      },
      "execution_count": null,
      "outputs": []
    },
    {
      "cell_type": "code",
      "source": [
        "lasso_cols_selected=list(betas[betas['Lasso']!=0].index)\n",
        "print(lasso_cols_selected)"
      ],
      "metadata": {
        "id": "-XKTQX8jbpU-",
        "collapsed": true
      },
      "execution_count": null,
      "outputs": []
    },
    {
      "cell_type": "code",
      "source": [
        "print(len(lasso_cols_removed))\n",
        "print(len(lasso_cols_selected))"
      ],
      "metadata": {
        "id": "YfZAruOjcHPo",
        "collapsed": true
      },
      "execution_count": null,
      "outputs": []
    },
    {
      "cell_type": "markdown",
      "source": [
        "**Top 10 features significient in pretending the value of a house, both according to Ridge model and Lasso model**"
      ],
      "metadata": {
        "id": "qNn4bn4BdOTj"
      }
    },
    {
      "cell_type": "code",
      "source": [
        "betas['Ridge'].sort_values(ascending=False).head(10)"
      ],
      "metadata": {
        "id": "KvhuU70RcQh8",
        "collapsed": true
      },
      "execution_count": null,
      "outputs": []
    },
    {
      "cell_type": "code",
      "source": [
        "lasso_coeffs=np.exp(betas['Lasso'])\n",
        "lasso_coeffs.sort_values(ascending=False)[:10]"
      ],
      "metadata": {
        "id": "nBpBJwNLdhFq",
        "collapsed": true
      },
      "execution_count": null,
      "outputs": []
    },
    {
      "cell_type": "markdown",
      "source": [
        "# **Conclusion**\n",
        "**Below are the top 10 features significient in pretending the value of a house, both according to Ridge model**\n",
        "\n",
        "\n",
        "OverallQual_9\t0.105410\n",
        "\n",
        "Neighborhood_StoneBr\t0.088724\n",
        "\n",
        "OverallQual_8\t0.084013\n",
        "\n",
        "Neighborhood_Crawfor\t0.082484\n",
        "\n",
        "Exterior1st_BrkFace\t0.080016\n",
        "\n",
        "Neighborhood_NridgHt\t0.069636\n",
        "\n",
        "BsmtQual_Ex\t0.066404\n",
        "\n",
        "Functional_Typ\t0.065846\n",
        "\n",
        "OverallCond_9\t0.064157\n",
        "\n",
        "GrLivArea\t0.060228\n",
        "\n",
        "\n",
        "**Below are the top 10 features significient in pretending the value of a house, both according to Lasso model**\n",
        "\n",
        "GarageCond_Po\t1.179230\n",
        "\n",
        "OverallQual_10\t1.154648\n",
        "\n",
        "OverallQual_9\t1.146612\n",
        "\n",
        "SaleType_Oth\t1.137107\n",
        "\n",
        "Neighborhood_StoneBr\t1.135340\n",
        "\n",
        "Neighborhood_Crawfor\t1.116512\n",
        "\n",
        "Exterior1st_BrkFace\t1.113052\n",
        "\n",
        "GarageQual_Ex\t1.109625\n",
        "\n",
        "SaleCondition_Alloca\t1.103749\n",
        "\n",
        "OverallCond_9\t1.099452\n",
        "\n",
        "\n",
        "\n",
        "**Few Inferences are :**\n",
        "\n",
        "\n",
        ". Therefore the price of the house will increase by 1.11 with the increase in GrLivArea\n",
        "\n",
        ". The price of house can increase by 1.08 times if the finish of the house is Very Good\n",
        "\n",
        ". If the house has centralized AC the price can increase by 1.08 times\n",
        "\n",
        ". If the basement condition is typical then the house price may increase upto 1.06 times\n",
        "\n",
        ". The price of the house may increase if the neighborhood has Crawford,Stone Brook and Northridge Heights as Physical locations within Ames city limits\n",
        "\n",
        "\n",
        "**Optimal value of lambda for Ridge Regression = 9**\n",
        "\n",
        "**Optimal value of lambda for Lasso = 0.001**"
      ],
      "metadata": {
        "id": "XLRnJ_04e0qw"
      }
    }
  ],
  "metadata": {
    "kernelspec": {
      "display_name": "Python 3",
      "language": "python",
      "name": "python3"
    },
    "language_info": {
      "codemirror_mode": {
        "name": "ipython",
        "version": 3
      },
      "file_extension": ".py",
      "mimetype": "text/x-python",
      "name": "python",
      "nbconvert_exporter": "python",
      "pygments_lexer": "ipython3",
      "version": "3.6.8"
    },
    "colab": {
      "provenance": []
    }
  },
  "nbformat": 4,
  "nbformat_minor": 0
}